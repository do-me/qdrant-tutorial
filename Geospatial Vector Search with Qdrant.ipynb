{
 "cells": [
  {
   "cell_type": "markdown",
   "id": "f044e0c9-d346-409c-a603-548ee95aa94e",
   "metadata": {},
   "source": [
    "# Geospatial Vector Search with Qdrant\n",
    "## Using qdrant for querying social media with vector search and geospatial filters without GPU (CPU only)\n",
    "\n",
    "Notebook for the blog post: https://geo.rocks/post/geospatial-vector-search-qdrant/"
   ]
  },
  {
   "cell_type": "code",
   "execution_count": 1,
   "id": "fe22b1ad-fad4-4f04-a295-8a9f5a0aff9b",
   "metadata": {
    "collapsed": true,
    "jupyter": {
     "outputs_hidden": true
    },
    "tags": []
   },
   "outputs": [
    {
     "name": "stdout",
     "output_type": "stream",
     "text": [
      "The history saving thread hit an unexpected error (DatabaseError('database disk image is malformed')).History will not be written to the database.\n"
     ]
    },
    {
     "data": {
      "text/html": [
       "<div>\n",
       "<style scoped>\n",
       "    .dataframe tbody tr th:only-of-type {\n",
       "        vertical-align: middle;\n",
       "    }\n",
       "\n",
       "    .dataframe tbody tr th {\n",
       "        vertical-align: top;\n",
       "    }\n",
       "\n",
       "    .dataframe thead th {\n",
       "        text-align: right;\n",
       "    }\n",
       "</style>\n",
       "<table border=\"1\" class=\"dataframe\">\n",
       "  <thead>\n",
       "    <tr style=\"text-align: right;\">\n",
       "      <th></th>\n",
       "      <th>Collection</th>\n",
       "      <th>Record Number</th>\n",
       "      <th>Project acronym</th>\n",
       "      <th>Title</th>\n",
       "      <th>ID</th>\n",
       "      <th>Teaser</th>\n",
       "    </tr>\n",
       "  </thead>\n",
       "  <tbody>\n",
       "    <tr>\n",
       "      <th>60024</th>\n",
       "      <td>project</td>\n",
       "      <td>191330</td>\n",
       "      <td>Hairy Cell Leukemia</td>\n",
       "      <td>Genetics-driven targeted therapy of Hairy Cell...</td>\n",
       "      <td>617471</td>\n",
       "      <td>Hairy Cell Leukemia (HCL), a chronic B-cell ne...</td>\n",
       "    </tr>\n",
       "    <tr>\n",
       "      <th>60025</th>\n",
       "      <td>project</td>\n",
       "      <td>73654</td>\n",
       "      <td>MODNET</td>\n",
       "      <td>Model theory and applications</td>\n",
       "      <td>512234</td>\n",
       "      <td>This proposal is designed to promote multi-dis...</td>\n",
       "    </tr>\n",
       "    <tr>\n",
       "      <th>60026</th>\n",
       "      <td>project</td>\n",
       "      <td>83907</td>\n",
       "      <td>DYNQUANTGR</td>\n",
       "      <td>Dynamical quantum groups, deformation quantiza...</td>\n",
       "      <td>42212</td>\n",
       "      <td>The main goal of this proposal is two-fold: St...</td>\n",
       "    </tr>\n",
       "    <tr>\n",
       "      <th>60027</th>\n",
       "      <td>project</td>\n",
       "      <td>95038</td>\n",
       "      <td>ND-ETCRYPTOUC</td>\n",
       "      <td>New Directions in Efficient and Tamper-Resilie...</td>\n",
       "      <td>256544</td>\n",
       "      <td>Emerging ubiquitous devices such as WSN nodes ...</td>\n",
       "    </tr>\n",
       "    <tr>\n",
       "      <th>60028</th>\n",
       "      <td>project</td>\n",
       "      <td>86440</td>\n",
       "      <td>TAMBO</td>\n",
       "      <td>Societies of South Peru in the Context of Clim...</td>\n",
       "      <td>209938</td>\n",
       "      <td>The project, Societies of South Peru in the Co...</td>\n",
       "    </tr>\n",
       "    <tr>\n",
       "      <th>...</th>\n",
       "      <td>...</td>\n",
       "      <td>...</td>\n",
       "      <td>...</td>\n",
       "      <td>...</td>\n",
       "      <td>...</td>\n",
       "      <td>...</td>\n",
       "    </tr>\n",
       "    <tr>\n",
       "      <th>987809</th>\n",
       "      <td>project</td>\n",
       "      <td>225185</td>\n",
       "      <td>CustomerServiceAI</td>\n",
       "      <td>CustomerServiceAI: Fully language-independent ...</td>\n",
       "      <td>880954</td>\n",
       "      <td>Customer service is a huge industry: €720BN in...</td>\n",
       "    </tr>\n",
       "    <tr>\n",
       "      <th>987810</th>\n",
       "      <td>project</td>\n",
       "      <td>233472</td>\n",
       "      <td>eMOTIONAL Cities</td>\n",
       "      <td>eMOTIONAL Cities - Mapping the cities through ...</td>\n",
       "      <td>945307</td>\n",
       "      <td>As the world is becoming more urbanized and ci...</td>\n",
       "    </tr>\n",
       "    <tr>\n",
       "      <th>987811</th>\n",
       "      <td>project</td>\n",
       "      <td>227864</td>\n",
       "      <td>PRECISMEDLYM</td>\n",
       "      <td>Aggressive T cell Lymphomas, integrated clinic...</td>\n",
       "      <td>882597</td>\n",
       "      <td>Lymphoid leukemias and lymphomas represent fre...</td>\n",
       "    </tr>\n",
       "    <tr>\n",
       "      <th>987812</th>\n",
       "      <td>project</td>\n",
       "      <td>226324</td>\n",
       "      <td>C-stemGMP</td>\n",
       "      <td>c-GMP compliance of C-stem, an IPSc based cell...</td>\n",
       "      <td>881113</td>\n",
       "      <td>Scaling-up cell therapy manufacturing provides...</td>\n",
       "    </tr>\n",
       "    <tr>\n",
       "      <th>987813</th>\n",
       "      <td>project</td>\n",
       "      <td>227514</td>\n",
       "      <td>NetriCan</td>\n",
       "      <td>Characterization of the role of netrin-1 in th...</td>\n",
       "      <td>883146</td>\n",
       "      <td>Recent data coming from both basic research an...</td>\n",
       "    </tr>\n",
       "  </tbody>\n",
       "</table>\n",
       "<p>55418 rows × 6 columns</p>\n",
       "</div>"
      ],
      "text/plain": [
       "       Collection  Record Number      Project acronym  \\\n",
       "60024     project         191330  Hairy Cell Leukemia   \n",
       "60025     project          73654               MODNET   \n",
       "60026     project          83907           DYNQUANTGR   \n",
       "60027     project          95038        ND-ETCRYPTOUC   \n",
       "60028     project          86440                TAMBO   \n",
       "...           ...            ...                  ...   \n",
       "987809    project         225185    CustomerServiceAI   \n",
       "987810    project         233472     eMOTIONAL Cities   \n",
       "987811    project         227864         PRECISMEDLYM   \n",
       "987812    project         226324            C-stemGMP   \n",
       "987813    project         227514             NetriCan   \n",
       "\n",
       "                                                    Title      ID  \\\n",
       "60024   Genetics-driven targeted therapy of Hairy Cell...  617471   \n",
       "60025                       Model theory and applications  512234   \n",
       "60026   Dynamical quantum groups, deformation quantiza...   42212   \n",
       "60027   New Directions in Efficient and Tamper-Resilie...  256544   \n",
       "60028   Societies of South Peru in the Context of Clim...  209938   \n",
       "...                                                   ...     ...   \n",
       "987809  CustomerServiceAI: Fully language-independent ...  880954   \n",
       "987810  eMOTIONAL Cities - Mapping the cities through ...  945307   \n",
       "987811  Aggressive T cell Lymphomas, integrated clinic...  882597   \n",
       "987812  c-GMP compliance of C-stem, an IPSc based cell...  881113   \n",
       "987813  Characterization of the role of netrin-1 in th...  883146   \n",
       "\n",
       "                                                   Teaser  \n",
       "60024   Hairy Cell Leukemia (HCL), a chronic B-cell ne...  \n",
       "60025   This proposal is designed to promote multi-dis...  \n",
       "60026   The main goal of this proposal is two-fold: St...  \n",
       "60027   Emerging ubiquitous devices such as WSN nodes ...  \n",
       "60028   The project, Societies of South Peru in the Co...  \n",
       "...                                                   ...  \n",
       "987809  Customer service is a huge industry: €720BN in...  \n",
       "987810  As the world is becoming more urbanized and ci...  \n",
       "987811  Lymphoid leukemias and lymphomas represent fre...  \n",
       "987812  Scaling-up cell therapy manufacturing provides...  \n",
       "987813  Recent data coming from both basic research an...  \n",
       "\n",
       "[55418 rows x 6 columns]"
      ]
     },
     "execution_count": 1,
     "metadata": {},
     "output_type": "execute_result"
    }
   ],
   "source": [
    "import pandas as pd \n",
    "\n",
    "# read from remote GitHub Repo or download first \n",
    "df = pd.read_parquet(\"https://github.com/do-me/qdrant-tutorial/blob/main/CORDIS_55k_projects.parquet?raw=true\") # 13Mb\n",
    "df"
   ]
  },
  {
   "cell_type": "code",
   "execution_count": 2,
   "id": "d267dcdd-cf28-47d9-8dd7-9567d1d3429a",
   "metadata": {},
   "outputs": [],
   "source": [
    "import numpy as np\n",
    "# add random coordinates somewhere in the European mainland\n",
    "df[\"lat\"] = np.random.uniform(30,80, len(df))\n",
    "df[\"lon\"] = np.random.uniform(10,30, len(df))"
   ]
  },
  {
   "cell_type": "code",
   "execution_count": 4,
   "id": "f6ea5ad2-df6d-45a1-b854-aa784871126b",
   "metadata": {
    "collapsed": true,
    "jupyter": {
     "outputs_hidden": true
    },
    "tags": []
   },
   "outputs": [
    {
     "name": "stderr",
     "output_type": "stream",
     "text": [
      "100%|█████████████████████████████████████████████████████████████████████████████████████████████████████████████████████████████████████████████████████████████████████████████████████████████████████████████████████████████████████████████| 55418/55418 [27:45<00:00, 33.27it/s]\n"
     ]
    }
   ],
   "source": [
    "from sentence_transformers import SentenceTransformer\n",
    "from tqdm import tqdm\n",
    "tqdm.pandas()\n",
    "\n",
    "# load the model\n",
    "model = SentenceTransformer('multi-qa-MiniLM-L6-cos-v1')\n",
    "\n",
    "# encode all teasers with the model\n",
    "df[\"vector\"] = df[\"Teaser\"].progress_apply(lambda x: model.encode(x.lower()))"
   ]
  },
  {
   "cell_type": "code",
   "execution_count": 19,
   "id": "3683c85d-a70c-4a3a-8533-15634c6076a0",
   "metadata": {},
   "outputs": [],
   "source": [
    "from qdrant_client import QdrantClient\n",
    "from qdrant_client.http.models import * #VectorParams\n",
    "\n",
    "client = QdrantClient(host=\"localhost\", port=6333)\n",
    "client.recreate_collection(\n",
    "    collection_name=\"test_collection\",\n",
    "    vectors_config=VectorParams(size=384, distance=Distance.DOT)\n",
    ")"
   ]
  },
  {
   "cell_type": "code",
   "execution_count": 20,
   "id": "c37da5f9-2f57-4e39-9f0a-3b4bced437b8",
   "metadata": {},
   "outputs": [
    {
     "data": {
      "text/plain": [
       "InlineResponse2006(time=0.23038, status='ok', result=UpdateResult(operation_id=0, status=<UpdateStatus.COMPLETED: 'completed'>))"
      ]
     },
     "execution_count": 20,
     "metadata": {},
     "output_type": "execute_result"
    }
   ],
   "source": [
    "client.create_payload_index(\n",
    "    collection_name=\"test_collection\",\n",
    "    field_name=\"Teaser\",\n",
    "    field_schema=models.TextIndexParams(\n",
    "        type=\"text\",\n",
    "        tokenizer=models.TokenizerType.WORD,\n",
    "        min_token_len=2,\n",
    "        max_token_len=30,\n",
    "        lowercase=True,\n",
    "    )\n",
    ")"
   ]
  },
  {
   "cell_type": "code",
   "execution_count": 21,
   "id": "74919fe5-8e48-4e39-9261-0e68c9e128c4",
   "metadata": {},
   "outputs": [],
   "source": [
    "def post_qdrant(row):\n",
    "    \"\"\"Inserting each row seperately for simplicity. Can be optimized through inserting multiple rows at once.\"\"\"\n",
    "    \n",
    "    # normal payload, everything apart from vector and lat lon\n",
    "    row_payload = row.iloc[:-3].to_dict()\n",
    "    \n",
    "    # add lat lon to payload \n",
    "    row_payload[\"location\"] = row[[\"lat\",\"lon\"]].to_dict()\n",
    "    \n",
    "    # vector\n",
    "    row_vector = row[\"vector\"].tolist() #.to_json()) # vector\n",
    "    \n",
    "    # id as unique key in Qdrant\n",
    "    row_id = row[\"Record Number\"]\n",
    "        \n",
    "    # POST request to Qdrant API\n",
    "    operation_info = client.upsert(\n",
    "        collection_name=\"test_collection\",\n",
    "        wait=True,\n",
    "        points=[\n",
    "            PointStruct(id=row_id, vector=row_vector, payload=row_payload),\n",
    "            ]\n",
    "    )    "
   ]
  },
  {
   "cell_type": "code",
   "execution_count": 22,
   "id": "bf46fce0-fbcb-457a-b5f8-3042ea199d6a",
   "metadata": {
    "collapsed": true,
    "jupyter": {
     "outputs_hidden": true
    },
    "tags": []
   },
   "outputs": [
    {
     "name": "stderr",
     "output_type": "stream",
     "text": [
      "100%|█████████████████████████████████████████████████████████████████████████████████████████████████████████████████████████████████████████████████████████████████████████████████████████████████████████████████████████████████████████████| 55418/55418 [17:34<00:00, 52.56it/s]\n"
     ]
    },
    {
     "data": {
      "text/plain": [
       "60024     None\n",
       "60025     None\n",
       "60026     None\n",
       "60027     None\n",
       "60028     None\n",
       "          ... \n",
       "987809    None\n",
       "987810    None\n",
       "987811    None\n",
       "987812    None\n",
       "987813    None\n",
       "Length: 55418, dtype: object"
      ]
     },
     "execution_count": 22,
     "metadata": {},
     "output_type": "execute_result"
    }
   ],
   "source": [
    "df.progress_apply(lambda x: post_qdrant(x), axis=1)"
   ]
  },
  {
   "cell_type": "code",
   "execution_count": 23,
   "id": "d16125e4-8d37-4c9b-aa25-97f9c1123d65",
   "metadata": {
    "collapsed": true,
    "jupyter": {
     "outputs_hidden": true
    },
    "tags": []
   },
   "outputs": [
    {
     "data": {
      "text/plain": [
       "[ScoredPoint(id=85228, version=4014, score=0.6618099, payload={'Collection': 'project', 'ID': '30849', 'Project acronym': 'SEOS', 'Record Number': 85228, 'Teaser': 'Earth observation from space is relevant in science education already in high schools since it sharpens the sensibility to the natural environment and thus stimulates the willingness to learn of its relevance to everyday life conditions. This covers a broad field of experience...', 'Title': 'Science education through earth observation for high schools', 'location': {'lat': 74.07343093948293, 'lon': 24.20374801673081}}, vector=None),\n",
       " ScoredPoint(id=222830, version=53120, score=0.60703325, payload={'Collection': 'project', 'ID': '842560', 'Project acronym': 'CALCHAS', 'Record Number': 222830, 'Teaser': 'Earth Observation (EO) is undergoing a radical transformation due to the massive volume of observations acquired by remote sensing and in-situ sensor networks. While satellites provide coarse-resolution, yet global-scale monitoring of environmental processes, in-situ sensor...', 'Title': 'Computational Intelligence for Multi-Source Remote Sensing Data Analytics', 'location': {'lat': 74.79007852190145, 'lon': 12.864378877490047}}, vector=None),\n",
       " ScoredPoint(id=193451, version=53355, score=0.5999719, payload={'Collection': 'project', 'ID': '637010', 'Project acronym': 'EGSIEM', 'Record Number': 193451, 'Teaser': 'Earth observation (EO) satellites yield a wealth of data for scientific, operational and commercial exploitation. However, the redistribution of environmental mass is not yet part of the EO data products to date. These observations, derived from the Gravity Recovery and...', 'Title': 'European Gravity Service for Improved Emergency Management', 'location': {'lat': 73.1969096395658, 'lon': 26.867547236594767}}, vector=None)]"
      ]
     },
     "execution_count": 23,
     "metadata": {},
     "output_type": "execute_result"
    }
   ],
   "source": [
    "search_term = \"earth observation\"\n",
    "search_result = client.search(\n",
    "    collection_name=\"test_collection\",\n",
    "    query_vector=model.encode(search_term), \n",
    "    limit=3\n",
    ")\n",
    "search_result"
   ]
  },
  {
   "cell_type": "code",
   "execution_count": 25,
   "id": "60daf085-d93b-4609-bf69-7a8d6e41a6b7",
   "metadata": {
    "collapsed": true,
    "jupyter": {
     "outputs_hidden": true
    },
    "tags": []
   },
   "outputs": [
    {
     "data": {
      "text/plain": [
       "([Record(id=82157, payload={'Collection': 'project', 'ID': '7512', 'Project acronym': 'SPARTAN', 'Record Number': 82157, 'Teaser': 'We propose to create a Centre of Excellence in the training of early stage researchers in the space, planetary (including Earth Observation) and astrophysical sciences in the Department of Physics and Astronomy at the University of Leicester.\\r\\n\\r\\nThe principal aims of this cent...', 'Title': 'Centre of excellence for space, planetary and astrophysics research Training and Networking', 'location': {'lat': 72.52626887469162, 'lon': 28.64183473357381}}, vector=None),\n",
       "  Record(id=85228, payload={'Collection': 'project', 'ID': '30849', 'Project acronym': 'SEOS', 'Record Number': 85228, 'Teaser': 'Earth observation from space is relevant in science education already in high schools since it sharpens the sensibility to the natural environment and thus stimulates the willingness to learn of its relevance to everyday life conditions. This covers a broad field of experience...', 'Title': 'Science education through earth observation for high schools', 'location': {'lat': 74.07343093948293, 'lon': 24.20374801673081}}, vector=None),\n",
       "  Record(id=88557, payload={'Collection': 'project', 'ID': '211578', 'Project acronym': 'E-SOTER', 'Record Number': 88557, 'Teaser': 'Soil and land information is needed for a wide range of applications but available data are often inaccessible, incomplete, or out of date. GEOSS plans a global Earth Observation System and, within this framework, the e-SOTER project addresses the felt need for a global soil ...', 'Title': 'Regional pilot platform as EU contribution to a Global Soil Observing System', 'location': {'lat': 59.38920209090214, 'lon': 23.629878278689645}}, vector=None)],\n",
       " 95605)"
      ]
     },
     "execution_count": 25,
     "metadata": {},
     "output_type": "execute_result"
    }
   ],
   "source": [
    "search_term = \"earth observation\"\n",
    "\n",
    "search_result = client.scroll(\n",
    "    collection_name=\"test_collection\",\n",
    "    scroll_filter=Filter(\n",
    "        must=[\n",
    "            FieldCondition(\n",
    "                key=\"Teaser\",\n",
    "                match=MatchText(text=search_term)\n",
    "            )\n",
    "        ]\n",
    "    ),\n",
    "    limit=3,\n",
    "    with_payload=True,\n",
    ")\n",
    "\n",
    "search_result"
   ]
  },
  {
   "cell_type": "code",
   "execution_count": 26,
   "id": "7fad79ff-eac4-4ede-82aa-591d7879e226",
   "metadata": {},
   "outputs": [
    {
     "data": {
      "text/plain": [
       "([], None)"
      ]
     },
     "execution_count": 26,
     "metadata": {},
     "output_type": "execute_result"
    }
   ],
   "source": [
    "search_term = \"earth observation as a method for fighting climate change in urban areas\"\n",
    "\n",
    "search_result = client.scroll(\n",
    "    collection_name=\"test_collection\",\n",
    "    scroll_filter=Filter(\n",
    "        must=[\n",
    "            FieldCondition(\n",
    "                key=\"Teaser\",\n",
    "                match=MatchText(text=search_term)\n",
    "            )\n",
    "        ]\n",
    "    ),\n",
    "    limit=3,\n",
    "    with_payload=True,\n",
    ")\n",
    "\n",
    "search_result"
   ]
  },
  {
   "cell_type": "code",
   "execution_count": 27,
   "id": "71f27151-e817-404b-a22b-e32f572787b6",
   "metadata": {
    "jupyter": {
     "source_hidden": true
    },
    "tags": []
   },
   "outputs": [
    {
     "data": {
      "text/plain": [
       "[ScoredPoint(id=231962, version=32212, score=0.6569561, payload={'Collection': 'project', 'ID': '101004211', 'Project acronym': 'ECFAS', 'Record Number': 231962, 'Teaser': 'The increasing number of tools and algorithms able to process and extract qualitative and quantitative information from Earth Observation products has an enormous potential to support the evaluation of weather-induced climate risks. The ECFAS project will contribute to the...', 'Title': 'A PROOF-OF-CONCEPT FOR THE IMPLEMENTATION OF A EUROPEAN COPERNICUS COASTAL FLOOD AWARENESS SYSTEM', 'location': {'lat': 31.21824594487511, 'lon': 29.857792095998956}}, vector=None),\n",
       " ScoredPoint(id=216035, version=46207, score=0.63480234, payload={'Collection': 'project', 'ID': '771056', 'Project acronym': 'LICCI', 'Record Number': 216035, 'Teaser': 'In the quest to better understand local climate change impacts on physical, biological, and socioeconomic systems and how such impacts are locally perceived, scientists are challenged by the scarcity of grounded data, which has resulted in a call for exploring new data...', 'Title': 'Local Indicators of Climate Change Impacts. The Contribution of Local Knowledge to Climate Change Research', 'location': {'lat': 67.81498235670398, 'lon': 12.546218131454996}}, vector=None),\n",
       " ScoredPoint(id=202426, version=39883, score=0.632117, payload={'Collection': 'project', 'ID': '706244', 'Project acronym': 'IRONLAKE', 'Record Number': 202426, 'Teaser': 'Under the pressure of human-induced climate change, it is essential to better understand the past natural climate variability. A broader global coverage of high-resolution palaeoclimatic proxy (indicator) data is urgently needed to improve climate projections and adaptation...', 'Title': 'Establishing stable IRON isotopes of laminated LAKE sediments as novel palaeoclimate proxy', 'location': {'lat': 74.74258629120374, 'lon': 20.516549478517778}}, vector=None)]"
      ]
     },
     "execution_count": 27,
     "metadata": {},
     "output_type": "execute_result"
    }
   ],
   "source": [
    "search_term = \"earth observation as a method for fighting climate change in urban areas\"\n",
    "search_result = client.search(\n",
    "    collection_name=\"test_collection\",\n",
    "    query_vector=model.encode(search_term), \n",
    "    limit=3\n",
    ")\n",
    "search_result"
   ]
  },
  {
   "cell_type": "code",
   "execution_count": 32,
   "id": "f1250fe8-8d48-4c46-b268-176d06752936",
   "metadata": {
    "collapsed": true,
    "jupyter": {
     "outputs_hidden": true
    },
    "tags": []
   },
   "outputs": [
    {
     "data": {
      "text/plain": [
       "[ScoredPoint(id=92067, version=44762, score=0.3700924, payload={'Collection': 'project', 'ID': '226701', 'Project acronym': 'CARBO-EXTREME', 'Record Number': 92067, 'Teaser': 'The aim of this project is to achieve an improved knowledge of the terrestrial carbon cycle in response to climate variability and extremes, to represent and apply this knowledge over Europe with predictive terrestrial carbon cycle modelling, to interpret the model predictions...', 'Title': 'The terrestrial Carbon cycle under Climate Variability and Extremes – a Pan-European synthesis', 'location': {'lat': 48.98955310027602, 'lon': 10.164019268032614}}, vector=None),\n",
       " ScoredPoint(id=81072, version=4970, score=0.35429376, payload={'Collection': 'project', 'ID': '517912', 'Project acronym': 'MSEPOA', 'Record Number': 81072, 'Teaser': 'We propose to use X-ray data from two pioneering in their kind and complementary multi-wavelength surveys, in order to perform a systematic study of obscured AGN. These leverage substantial investments of space- and ground-based telescope time, yielding a unique dataset to stu...', 'Title': 'Multi-wavelength searches of the elusive population of obscured AGN', 'location': {'lat': 49.113653844306384, 'lon': 12.80912024409048}}, vector=None),\n",
       " ScoredPoint(id=102818, version=48797, score=0.3521356, payload={'Collection': 'project', 'ID': '303610', 'Project acronym': 'PYROMAP', 'Record Number': 102818, 'Teaser': 'Project PyroMap aims to understand the impact that Earth’s last major globally warm period had on our planet’s flammability. The Mid Pliocene ~3.6-2.6 million years ago, experienced global mean annual temperatures 3oC higher than today. Such estimates are remarkably similar t...', 'Title': \"Palaeofire Danger Rating Maps and Earth's Last Major Global Warming Event (Project PyroMap)\", 'location': {'lat': 52.16377317766049, 'lon': 12.582368674433358}}, vector=None)]"
      ]
     },
     "execution_count": 32,
     "metadata": {},
     "output_type": "execute_result"
    }
   ],
   "source": [
    "search_term = \"earth observation\"\n",
    "\n",
    "search_result = client.search(\n",
    "    collection_name=\"test_collection\",\n",
    "    query_vector=model.encode(search_term), \n",
    "    query_filter=Filter(\n",
    "        must=[\n",
    "            FieldCondition(\n",
    "                key=\"location\",\n",
    "                geo_bounding_box=models.GeoBoundingBox(\n",
    "                    bottom_right=models.GeoPoint(\n",
    "                        lat=48.495862,\n",
    "                        lon=13.455868,\n",
    "                    ),\n",
    "                    top_left=models.GeoPoint(\n",
    "                        lat=52.520711,\n",
    "                        lon=5.403683,\n",
    "                    ),\n",
    "                ),\n",
    "            )\n",
    "        ]\n",
    "    ),\n",
    "    limit=3\n",
    ")\n",
    "\n",
    "search_result"
   ]
  },
  {
   "cell_type": "code",
   "execution_count": 36,
   "id": "3b873f64-d96b-4aca-ad22-54e8f8cf4fde",
   "metadata": {
    "collapsed": true,
    "jupyter": {
     "outputs_hidden": true
    },
    "tags": []
   },
   "outputs": [
    {
     "data": {
      "text/plain": [
       "[ScoredPoint(id=103492, version=8624, score=0.23580064, payload={'Collection': 'project', 'ID': '301230', 'Project acronym': 'NeBRiC', 'Record Number': 103492, 'Teaser': 'Cosmology has gone through an amazing revolution during the last decade owing to the large amount of new precise observational data. These data strongly indicate the existence of two periods of accelerated expansion in the history of the Universe. One in the primordial univer...', 'Title': 'Non-linear effects and backreaction in classical and quantum cosmology', 'location': {'lat': 52.565792386550584, 'lon': 13.485898163771736}}, vector=None),\n",
       " ScoredPoint(id=80900, version=33189, score=0.13301674, payload={'Collection': 'project', 'ID': '514222', 'Project acronym': 'CB_DIDACTIQUE', 'Record Number': 80900, 'Teaser': 'It is well known that Education is one of the key elements of every society. A worldwide scale look at of the economic, social and financial health of the different countries clearly shows an intimate link between the expansion of the latter and the degree of expertise of its ...', 'Title': 'Using a computer environnement to improve the quality of algebra education at different school levels', 'location': {'lat': 52.54758829696126, 'lon': 13.292623381409692}}, vector=None)]"
      ]
     },
     "execution_count": 36,
     "metadata": {},
     "output_type": "execute_result"
    }
   ],
   "source": [
    "search_term = \"earth observation\"# as a method for fighting climate change in urban areas\"\n",
    "\n",
    "search_result = client.search(\n",
    "    collection_name=\"test_collection\",\n",
    "    query_vector=model.encode(search_term), \n",
    "    query_filter=Filter(\n",
    "        must=[\n",
    "            FieldCondition(\n",
    "                key=\"location\",\n",
    "                geo_radius=models.GeoRadius(\n",
    "                    center=models.GeoPoint(\n",
    "                        lat=52.520711,\n",
    "                        lon=13.403683,\n",
    "                    ),\n",
    "                    radius=10_000,\n",
    "                ),\n",
    "            )\n",
    "        ]\n",
    "    ),\n",
    "    limit=3\n",
    ")\n",
    "\n",
    "search_result"
   ]
  }
 ],
 "metadata": {
  "kernelspec": {
   "display_name": "Python 3 (ipykernel)",
   "language": "python",
   "name": "python3"
  },
  "language_info": {
   "codemirror_mode": {
    "name": "ipython",
    "version": 3
   },
   "file_extension": ".py",
   "mimetype": "text/x-python",
   "name": "python",
   "nbconvert_exporter": "python",
   "pygments_lexer": "ipython3",
   "version": "3.10.8"
  }
 },
 "nbformat": 4,
 "nbformat_minor": 5
}
